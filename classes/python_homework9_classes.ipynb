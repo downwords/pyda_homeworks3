{
 "cells": [
  {
   "cell_type": "code",
   "execution_count": null,
   "metadata": {},
   "outputs": [],
   "source": [
    "import requests"
   ]
  },
  {
   "cell_type": "markdown",
   "metadata": {},
   "source": [
    "### Задание 1"
   ]
  },
  {
   "cell_type": "code",
   "execution_count": null,
   "metadata": {},
   "outputs": [],
   "source": [
    "def max_value():\n",
    "    max_val = 0\n",
    "    name_val = ''\n",
    "    full_data = requests.get('https://www.cbr-xml-daily.ru/daily_json.js').json()\n",
    "    for element in full_data['Valute']:\n",
    "        for valute_dict in full_data['Valute'].get(element):\n",
    "            if valute_dict == 'Value':\n",
    "                if max_val < full_data['Valute'][element].get(valute_dict):\n",
    "                    max_val = full_data['Valute'][element].get(valute_dict)\n",
    "                    name_val = full_data['Valute'][element]['Name']\n",
    "    return print(name_val, '-', max_val)\n",
    "\n",
    "max_value()"
   ]
  },
  {
   "cell_type": "markdown",
   "metadata": {},
   "source": [
    "### Задание 2"
   ]
  },
  {
   "cell_type": "code",
   "execution_count": null,
   "metadata": {},
   "outputs": [],
   "source": [
    "class Rate:\n",
    "    def __init__(self):\n",
    "        self.currency = requests.get('https://www.cbr-xml-daily.ru/daily_json.js').json()['Valute']\n",
    "        for element in self.currency:\n",
    "            name = self.currency[element]['Name']\n",
    "            print(element, '-', name)\n",
    "        self.input_name = input('Введите код валюты: ').upper()\n",
    "\n",
    "    def give_full_data(self): #выдать полную информацию об одной валюте\n",
    "        print(self.currency.get(self.input_name))\n",
    "        \n",
    "    def give_only_value(self, diff = True): #выдать только курс валюты / только разницу с прошлым днём\n",
    "        value = self.currency.get(self.input_name)['Value']\n",
    "        if diff:\n",
    "            previous = self.currency.get(self.input_name)['Previous']\n",
    "            print('Валюта:', self.currency.get(self.input_name)['Name'], 'Изменение:', round((value - previous), 4))\n",
    "        else:\n",
    "            print('Валюта:', self.currency.get(self.input_name)['Name'], 'Курс:', value)"
   ]
  },
  {
   "cell_type": "code",
   "execution_count": null,
   "metadata": {
    "scrolled": true
   },
   "outputs": [],
   "source": [
    "Rate().give_full_data()"
   ]
  },
  {
   "cell_type": "code",
   "execution_count": null,
   "metadata": {},
   "outputs": [],
   "source": [
    "Rate().give_only_value()"
   ]
  },
  {
   "cell_type": "markdown",
   "metadata": {},
   "source": [
    "### Задание 3"
   ]
  },
  {
   "cell_type": "code",
   "execution_count": null,
   "metadata": {},
   "outputs": [],
   "source": [
    "class Employee:\n",
    "    def __init__(self, name, seniority):\n",
    "        self.name = name\n",
    "        self.seniority = seniority\n",
    "        self.grade = 1\n",
    "        \n",
    "    def grade_up(self):\n",
    "        self.grade += 1\n",
    "        \n",
    "    def publish_(self):\n",
    "        print('Сотрудник {}, уровень {}'.format(self.name, self.grade))\n",
    "    \n",
    "    def check_if_it_is_time_for_upgrade(self):\n",
    "        pass"
   ]
  },
  {
   "cell_type": "code",
   "execution_count": null,
   "metadata": {},
   "outputs": [],
   "source": [
    "class Designer(Employee):\n",
    "    def __init__(self, name, seniority, count_award):\n",
    "        super().__init__(name, seniority)\n",
    "        self.international_award = 2 # полагается два балла за премию\n",
    "        self.count_award = count_award\n",
    "        \n",
    "    def check_if_it_is_time_for_upgrade(self):\n",
    "        self.seniority += 1\n",
    "        self.seniority += self.count_award*self.international_award #добавить баллы за премии\n",
    "        self.count_award = 0 #баллы за премии посчитаны, премий больше нет\n",
    "        if self.seniority // 7 >= 1:\n",
    "            self.grade_up()\n",
    "            self.seniority -= 7\n",
    "        return self.publish_()"
   ]
  },
  {
   "cell_type": "code",
   "execution_count": null,
   "metadata": {},
   "outputs": [],
   "source": [
    "alex = Designer('Александр', 0, 2) # Дизайнер Александр пришел в компанию без баллов, но с 2-мя премиями"
   ]
  },
  {
   "cell_type": "code",
   "execution_count": null,
   "metadata": {},
   "outputs": [],
   "source": [
    "for i in range(20):\n",
    "    alex.check_if_it_is_time_for_upgrade()"
   ]
  },
  {
   "cell_type": "code",
   "execution_count": null,
   "metadata": {},
   "outputs": [],
   "source": []
  }
 ],
 "metadata": {
  "kernelspec": {
   "display_name": "Python 3",
   "language": "python",
   "name": "python3"
  },
  "language_info": {
   "codemirror_mode": {
    "name": "ipython",
    "version": 3
   },
   "file_extension": ".py",
   "mimetype": "text/x-python",
   "name": "python",
   "nbconvert_exporter": "python",
   "pygments_lexer": "ipython3",
   "version": "3.8.3"
  }
 },
 "nbformat": 4,
 "nbformat_minor": 4
}
