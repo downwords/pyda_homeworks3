{
 "cells": [
  {
   "cell_type": "markdown",
   "metadata": {},
   "source": [
    "### Задание 1"
   ]
  },
  {
   "cell_type": "code",
   "execution_count": 107,
   "metadata": {},
   "outputs": [
    {
     "name": "stdout",
     "output_type": "stream",
     "text": [
      "Номер А222АА валиден. Регион: 62\n"
     ]
    }
   ],
   "source": [
    "car_id = 'А222АА62'\n",
    "import re\n",
    "\n",
    "def autonum():\n",
    "\n",
    "    valid = re.findall(r'[АВЕКМНОРСТУХ]{1}\\d{3}[АВЕКМНОРСТУХ]{2}\\d{2,3}\\b', car_id)\n",
    "    if valid != []:\n",
    "        num = re.findall(r'[АВЕКМНОРСТУХ]{1}\\d{3}[АВЕКМНОРСТУХ]{2}', car_id)\n",
    "        reg = re.findall(r'\\d{2,3}$', car_id)\n",
    "        print('Номер', num[0], 'валиден. Регион:', reg[0])\n",
    "    else:\n",
    "        print('Номер не валиден')\n",
    "\n",
    "\n",
    "autonum()"
   ]
  },
  {
   "cell_type": "markdown",
   "metadata": {},
   "source": [
    "### Задание 2"
   ]
  },
  {
   "cell_type": "code",
   "execution_count": 36,
   "metadata": {
    "scrolled": false
   },
   "outputs": [
    {
     "name": "stdout",
     "output_type": "stream",
     "text": [
      "Напишите функцию, которая будет удалять все последовательные повторы слов из заданной строки при помощи регулярных выражений \n"
     ]
    }
   ],
   "source": [
    "some_string = 'Напишите функцию функцию, которая будет будет будет будет удалять все все все все последовательные повторы слов из из из из заданной строки строки при помощи регулярных выражений'\n",
    "import re\n",
    "\n",
    "def teststr():\n",
    "    some_list = re.split(r'[\\s]', some_string)\n",
    "    new_word = []\n",
    "    final_str = ''\n",
    "\n",
    "    for word in some_list:\n",
    "        meaning = re.findall(r'\\w+', word)\n",
    "        some_dots = re.findall(r'\\W+', word)\n",
    "\n",
    "        if new_word != meaning:\n",
    "            final_str += meaning[0]\n",
    "            new_word = meaning\n",
    "        else:\n",
    "            final_str = final_str.strip()\n",
    "        if some_dots != []:\n",
    "            final_str += some_dots[0]\n",
    "        final_str += ' '\n",
    "    print(final_str)\n",
    "    \n",
    "teststr()"
   ]
  },
  {
   "cell_type": "markdown",
   "metadata": {},
   "source": [
    "### Задание 3"
   ]
  },
  {
   "cell_type": "code",
   "execution_count": 35,
   "metadata": {},
   "outputs": [
    {
     "name": "stdout",
     "output_type": "stream",
     "text": [
      "NFC\n"
     ]
    }
   ],
   "source": [
    "some_words = 'Near Field Communication'\n",
    "import re\n",
    "\n",
    "def acro():\n",
    "    name = ''\n",
    "    some_list = re.split(r'[\\s]', some_words)\n",
    "    for word in some_list:\n",
    "        letter = re.findall(r'\\w{1}', word)\n",
    "        name += letter[0]\n",
    "    print(name.upper())\n",
    "    \n",
    "acro()"
   ]
  },
  {
   "cell_type": "markdown",
   "metadata": {},
   "source": [
    "### Задание 4"
   ]
  },
  {
   "cell_type": "code",
   "execution_count": 62,
   "metadata": {},
   "outputs": [
    {
     "name": "stdout",
     "output_type": "stream",
     "text": [
      "{'@gmail.com': 2, '@test.in': 1, '@ya.ru': 2, '@mail.ru': 1}\n"
     ]
    }
   ],
   "source": [
    "emails = ['test@gmail.com', 'xyz@test.in', 'test@ya.ru', 'xyz@mail.ru', 'xyz@ya.ru', 'xyz@gmail.com']\n",
    "import re\n",
    "\n",
    "def maildict():\n",
    "    mdict = {}\n",
    "    for element in emails:\n",
    "        domen = re.findall(r'@\\w+.\\w+', element)\n",
    "        if mdict.get(domen[0]) == None:\n",
    "            mdict[domen[0]] = 1\n",
    "        else:\n",
    "            mdict[domen[0]] += 1\n",
    "    print(mdict)\n",
    "    \n",
    "maildict()"
   ]
  },
  {
   "cell_type": "markdown",
   "metadata": {},
   "source": [
    "### Задание 5"
   ]
  },
  {
   "cell_type": "code",
   "execution_count": 76,
   "metadata": {},
   "outputs": [
    {
     "name": "stdout",
     "output_type": "stream",
     "text": [
      "Слов на гласные буквы: 9\n",
      "Слов на согласные буквы: 21\n"
     ]
    }
   ],
   "source": [
    "some_text = 'Эталонной реализацией Python является интерпретатор CPython, поддерживающий большинство активно используемых платформ. Он распространяется под свободной лицензией Python Software Foundation License, позволяющей использовать его без ограничений в любых приложениях, включая проприетарные.'\n",
    "import re\n",
    "\n",
    "def wordstats():\n",
    "    some_v = re.findall(r'\\b[аеёиоуыэюяАЕЁИОУЫЭЮЯaeiouAEIOU]', some_text)\n",
    "    some_c = re.findall(r'\\b[бвгджзйклмнпрстфхцчшщБВГДЖЗЙКЛМНПРСТФХЦЧШЩbcdfghjklmnpqrstvwxyzBCDFGHJKLMNPQRSTVWXYZ]', some_text)\n",
    "    vowels = len(some_v)\n",
    "    consonant = len(some_c)\n",
    "    print('Слов на гласные буквы:', vowels)\n",
    "    print('Слов на согласные буквы:', consonant)\n",
    "    \n",
    "wordstats()"
   ]
  },
  {
   "cell_type": "markdown",
   "metadata": {},
   "source": [
    "### Задание 6"
   ]
  },
  {
   "cell_type": "code",
   "execution_count": 175,
   "metadata": {},
   "outputs": [
    {
     "name": "stdout",
     "output_type": "stream",
     "text": [
      "Номер не валиден\n"
     ]
    }
   ],
   "source": [
    "phone = '423-555-55-5555'\n",
    "\n",
    "def phonenum():\n",
    "    final_phone = []\n",
    "    part1 = ''\n",
    "    parsing = re.split(r'[\\+\\s\\-\\(\\)\\.\\*]', phone)\n",
    "    num = (''.join(parsing))\n",
    "    if re.findall(r'\\b[7-8]\\d{10}\\b', num):\n",
    "        part1 = '+7'\n",
    "    elif re.findall(r'\\b\\d{10}\\b', num):\n",
    "        part1 = '+7'\n",
    "    else:\n",
    "        final_phone = ['Номер не валиден']\n",
    "        \n",
    "    if part1 == '+7':\n",
    "        part2 = re.findall(r'\\d{10}\\b', num)\n",
    "        part3 = re.findall(r'\\d{7}\\b', part2[0])\n",
    "        part4 = re.findall(r'\\d{4}\\b', part3[0])\n",
    "        part5 = re.findall(r'\\d{2}\\b', part4[0])\n",
    "        \n",
    "        final_phone.append(part1)\n",
    "        final_phone.append(re.findall(r'\\b\\d{3}', part2[0])[0])\n",
    "        final_phone.append(re.findall(r'\\b\\d{3}', part3[0])[0])\n",
    "        final_phone.append(re.findall(r'\\b\\d{2}', part4[0])[0])\n",
    "        final_phone.append(re.findall(r'\\b\\d{2}', part5[0])[0])\n",
    "    \n",
    "    else:\n",
    "        ['Номер не валиден']\n",
    "    \n",
    "    print('-'.join(final_phone))\n",
    "    \n",
    "    \n",
    "phonenum()"
   ]
  },
  {
   "cell_type": "code",
   "execution_count": null,
   "metadata": {},
   "outputs": [],
   "source": []
  }
 ],
 "metadata": {
  "kernelspec": {
   "display_name": "Python 3",
   "language": "python",
   "name": "python3"
  },
  "language_info": {
   "codemirror_mode": {
    "name": "ipython",
    "version": 3
   },
   "file_extension": ".py",
   "mimetype": "text/x-python",
   "name": "python",
   "nbconvert_exporter": "python",
   "pygments_lexer": "ipython3",
   "version": "3.8.3"
  }
 },
 "nbformat": 4,
 "nbformat_minor": 4
}
