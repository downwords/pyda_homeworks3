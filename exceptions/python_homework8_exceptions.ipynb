{
 "cells": [
  {
   "cell_type": "markdown",
   "metadata": {},
   "source": [
    "### Задание 1"
   ]
  },
  {
   "cell_type": "code",
   "execution_count": 8,
   "metadata": {},
   "outputs": [
    {
     "name": "stdout",
     "output_type": "stream",
     "text": [
      "The Moscow Times - 2002-10-02 00:00:00\n",
      "The Guardian - 2013-10-11 00:00:00\n",
      "Daily News - 1977-08-18 00:00:00\n"
     ]
    }
   ],
   "source": [
    "\"\"\"The Moscow Times - Wednesday, October 2, 2002\n",
    "The Guardian - Friday, 11.10.13\n",
    "Daily News - Thursday, 18 August 1977\"\"\"\n",
    "\n",
    "from datetime import datetime\n",
    "\n",
    "print(\"The Moscow Times -\", datetime.strptime('Wednesday, October 2, 2002', '%A, %B %d, %Y'))\n",
    "print(\"The Guardian -\", datetime.strptime('Friday, 11.10.13', '%A, %d.%m.%y'))\n",
    "print(\"Daily News -\", datetime.strptime('Thursday, 18 August 1977', '%A, %d %B %Y'))"
   ]
  },
  {
   "cell_type": "markdown",
   "metadata": {},
   "source": [
    "### Задание 2"
   ]
  },
  {
   "cell_type": "code",
   "execution_count": 13,
   "metadata": {},
   "outputs": [
    {
     "name": "stdout",
     "output_type": "stream",
     "text": [
      "2018-04-02 - True\n",
      "2018-02-29 - False\n",
      "2018-19-02 - False\n"
     ]
    }
   ],
   "source": [
    "stream = ['2018-04-02', '2018-02-29', '2018-19-02']\n",
    "\n",
    "def date_check():\n",
    "    from datetime import datetime\n",
    "    for element in stream:\n",
    "        try:\n",
    "            datetime.strptime(element, '%Y-%m-%d')\n",
    "            print(element, '- True')\n",
    "        except:\n",
    "            print(element, '- False')\n",
    "        \n",
    "date_check()"
   ]
  },
  {
   "cell_type": "markdown",
   "metadata": {},
   "source": [
    "### Задание 3"
   ]
  },
  {
   "cell_type": "code",
   "execution_count": 73,
   "metadata": {},
   "outputs": [
    {
     "name": "stdout",
     "output_type": "stream",
     "text": [
      "['2018-02-19', '2018-02-20']\n"
     ]
    }
   ],
   "source": [
    "start_date = '2018-02-19'\n",
    "end_date = '2018-02-20'\n",
    "\n",
    "def date_range():\n",
    "    from datetime import datetime\n",
    "    from datetime import timedelta\n",
    "    date_list = []\n",
    "    try:\n",
    "        date_strt = datetime.strptime(start_date, '%Y-%m-%d')\n",
    "        try:\n",
    "            date_end = datetime.strptime(end_date, '%Y-%m-%d')\n",
    "            while date_end >= date_strt:\n",
    "                date_list.append(date_strt.strftime('%Y-%m-%d'))\n",
    "                date_strt = date_strt + timedelta(days=+1)\n",
    "        except:\n",
    "            pass\n",
    "    except:\n",
    "        pass\n",
    "    print(date_list)\n",
    "date_range()"
   ]
  },
  {
   "cell_type": "markdown",
   "metadata": {},
   "source": [
    "### Задание 4"
   ]
  },
  {
   "cell_type": "code",
   "execution_count": 108,
   "metadata": {},
   "outputs": [
    {
     "data": {
      "text/plain": [
       "'A101'"
      ]
     },
     "execution_count": 108,
     "metadata": {},
     "output_type": "execute_result"
    }
   ],
   "source": [
    "DEFAULT_USER_COUNT = 3\n",
    "\n",
    "\n",
    "def delete_and_return_last_user(region, default_list=['A100', 'A101', 'A102']):\n",
    "    \"\"\"Удаляет из списка default_list последнего пользователя и возвращает ID нового последнего пользователя.\"\"\"\n",
    "    element_to_delete = default_list[-1]\n",
    "    default_list.remove(element_to_delete)\n",
    "    return default_list[DEFAULT_USER_COUNT-2]\n",
    "\n",
    "delete_and_return_last_user(1)"
   ]
  },
  {
   "cell_type": "code",
   "execution_count": null,
   "metadata": {},
   "outputs": [],
   "source": [
    "\"\"\"\n",
    "В данной функции ошибка Out Of Range может возникнуть при таких обстоятельствах:\n",
    "\n",
    "В списке default_list не три элемента, а два, то есть если запустить её с такими параметрами:\n",
    "def delete_and_return_last_user(region, default_list=['A100', 'A101']):\n",
    "\n",
    "Ошибка означает, что функция в строке с return пытается вернуть из списка default_list элемент по номеру, которого нет:\n",
    "К этому элементу функция обращается, используя значение из переменной DEFAULT_USER_COUNT (3), и вычтя 2, то есть ищет (1) второй элемент списка.\n",
    "\n",
    "На момент после второго удаления пользователя, в списке остаётся только один элемент (его номер 0) и возникает ошибка.\n",
    "\n",
    "Ниже я внёс изменения в функцию так, чтобы она не падала с ошибкой Out Of Range, вне зависимости от количества элементов в списке.\n",
    "\n",
    "\"\"\""
   ]
  },
  {
   "cell_type": "code",
   "execution_count": 116,
   "metadata": {},
   "outputs": [
    {
     "data": {
      "text/plain": [
       "'A101'"
      ]
     },
     "execution_count": 116,
     "metadata": {},
     "output_type": "execute_result"
    }
   ],
   "source": [
    "def delete_and_return_last_user(region, default_list=['A100', 'A101', 'A102']):\n",
    "    CURRENT_USER_COUNT = len(default_list)\n",
    "    if CURRENT_USER_COUNT > 1:\n",
    "        element_to_delete = default_list[-1]\n",
    "        default_list.remove(element_to_delete)\n",
    "        return default_list[CURRENT_USER_COUNT-2]\n",
    "    else:\n",
    "        if CURRENT_USER_COUNT == 1:\n",
    "            element_to_delete = default_list[-1]\n",
    "            default_list.remove(element_to_delete)\n",
    "    return default_list\n",
    "        \n",
    "        \n",
    "delete_and_return_last_user(1)"
   ]
  },
  {
   "cell_type": "code",
   "execution_count": null,
   "metadata": {},
   "outputs": [],
   "source": []
  }
 ],
 "metadata": {
  "kernelspec": {
   "display_name": "Python 3",
   "language": "python",
   "name": "python3"
  },
  "language_info": {
   "codemirror_mode": {
    "name": "ipython",
    "version": 3
   },
   "file_extension": ".py",
   "mimetype": "text/x-python",
   "name": "python",
   "nbconvert_exporter": "python",
   "pygments_lexer": "ipython3",
   "version": "3.8.3"
  }
 },
 "nbformat": 4,
 "nbformat_minor": 4
}
