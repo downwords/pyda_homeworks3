{
 "cells": [
  {
   "cell_type": "markdown",
   "metadata": {},
   "source": [
    "### Домашнее задание к лекции \"Основы Python\""
   ]
  },
  {
   "cell_type": "markdown",
   "metadata": {},
   "source": [
    "### Задание 1"
   ]
  },
  {
   "cell_type": "code",
   "execution_count": null,
   "metadata": {},
   "outputs": [],
   "source": [
    "phrase_1 = 'Насколько проще было бы писать программы, если бы не заказчики'\n",
    "phrase_2 = '640Кб должно хватить для любых задач. Билл Гейтс (по легенде)'\n",
    "\n",
    "a = len(phrase_1)\n",
    "b = len(phrase_2)\n",
    "\n",
    "if(a > b):\n",
    "    print ('Фраза 1 длиннее фразы 2')\n",
    "elif(a == b):\n",
    "    print('Фразы 1 и 2 равной длины')\n",
    "else:\n",
    "    print ('Фраза 2 длиннее фразы 1')"
   ]
  },
  {
   "cell_type": "markdown",
   "metadata": {},
   "source": [
    "### Задание 2"
   ]
  },
  {
   "cell_type": "code",
   "execution_count": null,
   "metadata": {},
   "outputs": [],
   "source": [
    "year = 1900\n",
    "\n",
    "leap_year = 0\n",
    "\n",
    "if year % 4 == 0:\n",
    "    leap_year +=1\n",
    "if year % 100 == 0:\n",
    "    leap_year -=1\n",
    "if year % 400 == 0:\n",
    "    leap_year +=1    \n",
    "    \n",
    "if leap_year == 1:\n",
    "    print ('Високосный год')\n",
    "else:\n",
    "    print ('Невисокосный год')"
   ]
  },
  {
   "cell_type": "markdown",
   "metadata": {},
   "source": [
    "### Задание 3"
   ]
  },
  {
   "cell_type": "code",
   "execution_count": null,
   "metadata": {},
   "outputs": [],
   "source": [
    "dayb = int(input(\"Введите день своего рождения: \"))\n",
    "monthb = input(\"Введите месяц своего рождения: \")\n",
    "znak = \"Вы ввели некорректные данные \"\n",
    "# собираем информацию\n",
    "\n",
    "if monthb == \"январь\":\n",
    "    if dayb > 0 and dayb < 21:\n",
    "            znak = (\"Козерог\");      \n",
    "    elif dayb > 20 and dayb < 32:\n",
    "            znak = (\"Водолей\"); \n",
    "elif monthb == \"февраль\":\n",
    "    if dayb > 0 and dayb < 20:\n",
    "            znak = (\"Водолей\");      \n",
    "    elif dayb > 19 and dayb < 30:\n",
    "            znak = (\"Рыбы\"); \n",
    "elif monthb == \"март\":\n",
    "    if dayb > 0 and dayb < 21:\n",
    "            znak = (\"Рыбы\");      \n",
    "    elif dayb > 20 and dayb < 32:\n",
    "            znak = (\"Овен\"); \n",
    "elif monthb == \"апрель\":\n",
    "    if dayb > 0 and dayb < 21:\n",
    "            znak = (\"Овен\");      \n",
    "    elif dayb > 20 and dayb < 31:\n",
    "            znak = (\"Телец\"); \n",
    "elif monthb == \"май\":\n",
    "    if dayb > 0 and dayb < 22:\n",
    "            znak = (\"Телец\");      \n",
    "    elif dayb > 21 and dayb < 32:\n",
    "            znak = (\"Близнецы\"); \n",
    "elif monthb == \"июнь\":\n",
    "    if dayb > 0 and dayb < 22:\n",
    "            znak = (\"Близнецы\");      \n",
    "    elif dayb > 21 and dayb < 31:\n",
    "            znak = (\"Рак\");\n",
    "elif monthb == \"июль\":\n",
    "    if dayb > 0 and dayb < 23:\n",
    "            znak = (\"Рак\");      \n",
    "    elif dayb > 22 and dayb < 32:\n",
    "            znak = (\"Лев\");\n",
    "elif monthb == \"август\":\n",
    "    if dayb > 0 and dayb < 22:\n",
    "            znak = (\"Лев\");      \n",
    "    elif dayb > 21 and dayb < 32:\n",
    "            znak = (\"Дева\");\n",
    "elif monthb == \"сентябрь\":\n",
    "    if dayb > 0 and dayb < 24:\n",
    "            znak = (\"Дева\");      \n",
    "    elif dayb > 23 and dayb < 31:\n",
    "            znak = (\"Весы\");\n",
    "elif monthb == \"октябрь\":\n",
    "    if dayb > 0 and dayb < 24:\n",
    "            znak = (\"Весы\");      \n",
    "    elif dayb > 23 and dayb < 32:\n",
    "            znak = (\"Скорпион\");\n",
    "elif monthb == \"ноябрь\":\n",
    "    if dayb > 0 and dayb < 23:\n",
    "            znak = (\"Скорпион\");      \n",
    "    elif dayb > 22 and dayb < 31:\n",
    "            znak = (\"Стрелец\");\n",
    "elif monthb == \"декабрь\":\n",
    "    if dayb > 0 and dayb < 23:\n",
    "            znak = (\"Стрелец\");      \n",
    "    elif dayb > 22 and dayb < 32:\n",
    "            znak = (\"Козерог\");\n",
    "\n",
    "    \n",
    "print (\"Ваш знак зодиака:\")\n",
    "print (znak)"
   ]
  },
  {
   "cell_type": "markdown",
   "metadata": {},
   "source": [
    "### Задание 4"
   ]
  },
  {
   "cell_type": "code",
   "execution_count": null,
   "metadata": {},
   "outputs": [],
   "source": [
    "length = 200\n",
    "width = 10\n",
    "height = 10\n",
    "\n",
    "a = 0\n",
    "b = 0\n",
    "c = 0\n",
    "d = 0\n",
    "\n",
    "if width < 15 and length < 15 and height < 15:\n",
    "            print ('Коробка №1')\n",
    "elif 50 > length > 15 and 50 > width > 15 and 50 > height > 15:\n",
    "    print ('Коробка №2');\n",
    "elif length > 200:        \n",
    "    print ('Упаковка для лыж');\n",
    "else:\n",
    "    print ('Стандартная коробка №3')\n"
   ]
  },
  {
   "cell_type": "markdown",
   "metadata": {},
   "source": [
    "### Задание 5"
   ]
  },
  {
   "cell_type": "code",
   "execution_count": null,
   "metadata": {},
   "outputs": [],
   "source": [
    "number = 628556\n",
    "\n",
    "b = int(number % 1000)\n",
    "a = int((number - b) / 1000)\n",
    "# берем два трёхзначных числа\n",
    "\n",
    "c = int((a - int(a % 100)) / 100)\n",
    "\n",
    "d = int(((a % 100) - (a % 10)) / 10)\n",
    "\n",
    "e = a % 10\n",
    "\n",
    "# раскладываем на цифры\n",
    "\n",
    "f = int((b - int(b % 100)) / 100)\n",
    "\n",
    "g = int(((b % 100) - (b % 10)) / 10)\n",
    "\n",
    "h = b % 10\n",
    "\n",
    "# и еще один раз\n",
    "\n",
    "\n",
    "if (c + d + e == f + g + h) :\n",
    "    print ('Счастливый билет!!!')\n",
    "else:\n",
    "    print ('Несчастливый билет. :/ ')\n"
   ]
  },
  {
   "cell_type": "markdown",
   "metadata": {},
   "source": [
    "### Задание 6"
   ]
  },
  {
   "cell_type": "code",
   "execution_count": null,
   "metadata": {},
   "outputs": [],
   "source": [
    "import math\n",
    "\n",
    "figure = str(input(\"Введите название фигуры: \"))\n",
    "\n",
    "if figure == \"треугольник\":\n",
    "    a = float(input(\"Введите длину стороны A: \"))\n",
    "    b = float(input(\"Введите длину стороны B: \"))\n",
    "    c = float(input(\"Введите длину стороны C: \"))\n",
    "    p = (a + b + c) / 2          \n",
    "    s = math.sqrt ((p * (p - a) * (p - b) * (p - c)))\n",
    "    \n",
    "elif figure == \"прямоугольник\":\n",
    "    a = float(input(\"Введите длину стороны A: \"))\n",
    "    b = float(input(\"Введите длину стороны B: \"))\n",
    "    s = a * b\n",
    "    \n",
    "elif figure == \"круг\":\n",
    "    r = float(input(\"Введите радиус: \"))\n",
    "    s = math.pi * (r ** 2)\n",
    "    \n",
    "    \n",
    "print(\"Площадь фигуры равна: \")\n",
    "print(s)\n"
   ]
  }
 ],
 "metadata": {
  "kernelspec": {
   "display_name": "Python 3",
   "language": "python",
   "name": "python3"
  },
  "language_info": {
   "codemirror_mode": {
    "name": "ipython",
    "version": 3
   },
   "file_extension": ".py",
   "mimetype": "text/x-python",
   "name": "python",
   "nbconvert_exporter": "python",
   "pygments_lexer": "ipython3",
   "version": "3.8.3"
  }
 },
 "nbformat": 4,
 "nbformat_minor": 4
}
